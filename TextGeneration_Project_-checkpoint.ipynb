{
 "cells": [
  {
   "cell_type": "code",
   "execution_count": 1,
   "metadata": {
    "id": "u7SWhtAPS29M"
   },
   "outputs": [],
   "source": [
    "import tensorflow as tf\n",
    "from tensorflow.keras.preprocessing.sequence import pad_sequences\n",
    "from tensorflow.keras.layers import Embedding, LSTM, Dense, Dropout, Bidirectional\n",
    "from tensorflow.keras.preprocessing.text import Tokenizer\n",
    "from tensorflow.keras.models import Sequential\n",
    "from tensorflow.keras.optimizers import Adam\n",
    "from tensorflow.keras import regularizers\n",
    "import tensorflow.keras.utils as ku \n",
    "import numpy as np "
   ]
  },
  {
   "cell_type": "code",
   "execution_count": 7,
   "metadata": {
    "id": "3w4whqzurdkk"
   },
   "outputs": [],
   "source": [
    "!wget --no-check-certificate \\\n",
    "    https://storage.googleapis.com/laurencemoroney-blog.appspot.com/sonnets.txt \\\n",
    "    -O /tmp/sonnets.txt\n",
    "data = open('/tmp/sonnets.txt').read()\n",
    "\n",
    "corpus = data.lower().split(\"\\n\")\n",
    "\n",
    "tokenizer = Tokenizer()\n",
    "tokenizer.fit_on_texts(corpus)\n",
    "total_words = len(tokenizer.word_index) + 1\n",
    "\n",
    "# create input sequences using list of tokens\n",
    "input_sequences = []\n",
    "for line in corpus:\n",
    "\ttoken_list = tokenizer.texts_to_sequences([line])[0]\n",
    "\tfor i in range(1, len(token_list)):\n",
    "\t\tn_gram_sequence = token_list[:i+1]\n",
    "\t\tinput_sequences.append(n_gram_sequence)\n",
    "\n",
    "\n",
    "# pad sequences \n",
    "max_sequence_len = max([len(x) for x in input_sequences])\n",
    "input_sequences = np.array(pad_sequences(input_sequences, maxlen=max_sequence_len, padding='pre'))\n",
    "\n",
    "# create predictors and label\n",
    "predictors, label = input_sequences[:,:-1],input_sequences[:,-1]\n",
    "\n",
    "label = ku.to_categorical(label, num_classes=total_words)\n"
   ]
  },
  {
   "cell_type": "code",
   "execution_count": 8,
   "metadata": {
    "id": "MWVXhCnZS7mM"
   },
   "outputs": [],
   "source": [
    "model = tf.keras.Sequential([\n",
    "  tf.keras.layers.Embedding(total_words, 100, input_length=max_sequence_len-1),\n",
    "  tf.keras.layers.Bidirectional(LSTM(150, return_sequences = True)),\n",
    "  tf.keras.layers.Dropout(0.2),\n",
    "  tf.keras.layers.LSTM(100),\n",
    "  tf.keras.layers.Dense(total_words/2, activation='relu', kernel_regularizer=regularizers.l2(0.01)),\n",
    "  tf.keras.layers.Dense(total_words, activation='softmax')                              \n",
    "])\n",
    "\n",
    "model.compile(loss='categorical_crossentropy', optimizer='adam', metrics=['accuracy'])"
   ]
  },
  {
   "cell_type": "code",
   "execution_count": 9,
   "metadata": {
    "colab": {
     "base_uri": "https://localhost:8080/"
    },
    "id": "eobgsB0pf4J8",
    "outputId": "d460a3f4-c523-46e9-8adb-0b2f74424727"
   },
   "outputs": [
    {
     "name": "stdout",
     "output_type": "stream",
     "text": [
      "Epoch 1/100\n",
      "484/484 [==============================] - 21s 26ms/step - loss: 6.9108 - accuracy: 0.0227\n",
      "Epoch 2/100\n",
      "484/484 [==============================] - 13s 26ms/step - loss: 6.4942 - accuracy: 0.0228\n",
      "Epoch 3/100\n",
      "484/484 [==============================] - 13s 26ms/step - loss: 6.3997 - accuracy: 0.0236\n",
      "Epoch 4/100\n",
      "484/484 [==============================] - 12s 26ms/step - loss: 6.2732 - accuracy: 0.0275\n",
      "Epoch 5/100\n",
      "484/484 [==============================] - 12s 26ms/step - loss: 6.1773 - accuracy: 0.0340\n",
      "Epoch 6/100\n",
      "484/484 [==============================] - 12s 26ms/step - loss: 6.0973 - accuracy: 0.0379\n",
      "Epoch 7/100\n",
      "484/484 [==============================] - 13s 26ms/step - loss: 6.0174 - accuracy: 0.0410\n",
      "Epoch 8/100\n",
      "484/484 [==============================] - 12s 26ms/step - loss: 5.9320 - accuracy: 0.0449\n",
      "Epoch 9/100\n",
      "484/484 [==============================] - 13s 26ms/step - loss: 5.8354 - accuracy: 0.0503\n",
      "Epoch 10/100\n",
      "484/484 [==============================] - 12s 26ms/step - loss: 5.7382 - accuracy: 0.0553\n",
      "Epoch 11/100\n",
      "484/484 [==============================] - 13s 26ms/step - loss: 5.6342 - accuracy: 0.0601\n",
      "Epoch 12/100\n",
      "484/484 [==============================] - 12s 26ms/step - loss: 5.5310 - accuracy: 0.0677\n",
      "Epoch 13/100\n",
      "484/484 [==============================] - 12s 25ms/step - loss: 5.4351 - accuracy: 0.0709\n",
      "Epoch 14/100\n",
      "484/484 [==============================] - 13s 26ms/step - loss: 5.3327 - accuracy: 0.0784\n",
      "Epoch 15/100\n",
      "484/484 [==============================] - 13s 26ms/step - loss: 5.2321 - accuracy: 0.0872\n",
      "Epoch 16/100\n",
      "484/484 [==============================] - 13s 26ms/step - loss: 5.1412 - accuracy: 0.0920\n",
      "Epoch 17/100\n",
      "484/484 [==============================] - 13s 26ms/step - loss: 5.0413 - accuracy: 0.1001\n",
      "Epoch 18/100\n",
      "484/484 [==============================] - 12s 26ms/step - loss: 4.9442 - accuracy: 0.1093\n",
      "Epoch 19/100\n",
      "484/484 [==============================] - 13s 26ms/step - loss: 4.8472 - accuracy: 0.1121\n",
      "Epoch 20/100\n",
      "484/484 [==============================] - 13s 26ms/step - loss: 4.7417 - accuracy: 0.1268\n",
      "Epoch 21/100\n",
      "484/484 [==============================] - 13s 26ms/step - loss: 4.6438 - accuracy: 0.1346\n",
      "Epoch 22/100\n",
      "484/484 [==============================] - 13s 26ms/step - loss: 4.5471 - accuracy: 0.1444\n",
      "Epoch 23/100\n",
      "484/484 [==============================] - 13s 26ms/step - loss: 4.4444 - accuracy: 0.1557\n",
      "Epoch 24/100\n",
      "484/484 [==============================] - 13s 26ms/step - loss: 4.3447 - accuracy: 0.1671\n",
      "Epoch 25/100\n",
      "484/484 [==============================] - 13s 26ms/step - loss: 4.2417 - accuracy: 0.1810\n",
      "Epoch 26/100\n",
      "484/484 [==============================] - 13s 26ms/step - loss: 4.1327 - accuracy: 0.1921\n",
      "Epoch 27/100\n",
      "484/484 [==============================] - 13s 26ms/step - loss: 4.0452 - accuracy: 0.2049\n",
      "Epoch 28/100\n",
      "484/484 [==============================] - 13s 26ms/step - loss: 3.9461 - accuracy: 0.2207\n",
      "Epoch 29/100\n",
      "484/484 [==============================] - 13s 26ms/step - loss: 3.8428 - accuracy: 0.2383\n",
      "Epoch 30/100\n",
      "484/484 [==============================] - 13s 26ms/step - loss: 3.7435 - accuracy: 0.2578\n",
      "Epoch 31/100\n",
      "484/484 [==============================] - 13s 26ms/step - loss: 3.6424 - accuracy: 0.2759\n",
      "Epoch 32/100\n",
      "484/484 [==============================] - 13s 26ms/step - loss: 3.5543 - accuracy: 0.2947\n",
      "Epoch 33/100\n",
      "484/484 [==============================] - 13s 26ms/step - loss: 3.4630 - accuracy: 0.3149\n",
      "Epoch 34/100\n",
      "484/484 [==============================] - 13s 26ms/step - loss: 3.3799 - accuracy: 0.3306\n",
      "Epoch 35/100\n",
      "484/484 [==============================] - 13s 26ms/step - loss: 3.2859 - accuracy: 0.3571\n",
      "Epoch 36/100\n",
      "484/484 [==============================] - 13s 26ms/step - loss: 3.2015 - accuracy: 0.3728\n",
      "Epoch 37/100\n",
      "484/484 [==============================] - 13s 26ms/step - loss: 3.1262 - accuracy: 0.3929\n",
      "Epoch 38/100\n",
      "484/484 [==============================] - 13s 26ms/step - loss: 3.0644 - accuracy: 0.4015\n",
      "Epoch 39/100\n",
      "484/484 [==============================] - 13s 26ms/step - loss: 2.9813 - accuracy: 0.4239\n",
      "Epoch 40/100\n",
      "484/484 [==============================] - 13s 26ms/step - loss: 2.9169 - accuracy: 0.4364\n",
      "Epoch 41/100\n",
      "484/484 [==============================] - 13s 26ms/step - loss: 2.8321 - accuracy: 0.4555\n",
      "Epoch 42/100\n",
      "484/484 [==============================] - 13s 26ms/step - loss: 2.7731 - accuracy: 0.4699\n",
      "Epoch 43/100\n",
      "484/484 [==============================] - 13s 26ms/step - loss: 2.7233 - accuracy: 0.4776\n",
      "Epoch 44/100\n",
      "484/484 [==============================] - 13s 26ms/step - loss: 2.6542 - accuracy: 0.4984\n",
      "Epoch 45/100\n",
      "484/484 [==============================] - 13s 26ms/step - loss: 2.5984 - accuracy: 0.5043\n",
      "Epoch 46/100\n",
      "484/484 [==============================] - 13s 26ms/step - loss: 2.5439 - accuracy: 0.5215\n",
      "Epoch 47/100\n",
      "484/484 [==============================] - 13s 26ms/step - loss: 2.4856 - accuracy: 0.5335\n",
      "Epoch 48/100\n",
      "484/484 [==============================] - 13s 26ms/step - loss: 2.4278 - accuracy: 0.5446\n",
      "Epoch 49/100\n",
      "484/484 [==============================] - 13s 26ms/step - loss: 2.3869 - accuracy: 0.5560\n",
      "Epoch 50/100\n",
      "484/484 [==============================] - 13s 26ms/step - loss: 2.3373 - accuracy: 0.5647\n",
      "Epoch 51/100\n",
      "484/484 [==============================] - 13s 26ms/step - loss: 2.2931 - accuracy: 0.5742\n",
      "Epoch 52/100\n",
      "484/484 [==============================] - 13s 26ms/step - loss: 2.2468 - accuracy: 0.5889\n",
      "Epoch 53/100\n",
      "484/484 [==============================] - 13s 26ms/step - loss: 2.2001 - accuracy: 0.5959\n",
      "Epoch 54/100\n",
      "484/484 [==============================] - 13s 26ms/step - loss: 2.1550 - accuracy: 0.6099\n",
      "Epoch 55/100\n",
      "484/484 [==============================] - 13s 26ms/step - loss: 2.1104 - accuracy: 0.6187\n",
      "Epoch 56/100\n",
      "484/484 [==============================] - 13s 26ms/step - loss: 2.0861 - accuracy: 0.6229\n",
      "Epoch 57/100\n",
      "484/484 [==============================] - 13s 26ms/step - loss: 2.0442 - accuracy: 0.6336\n",
      "Epoch 58/100\n",
      "484/484 [==============================] - 13s 26ms/step - loss: 1.9982 - accuracy: 0.6420\n",
      "Epoch 59/100\n",
      "484/484 [==============================] - 13s 26ms/step - loss: 1.9701 - accuracy: 0.6453\n",
      "Epoch 60/100\n",
      "484/484 [==============================] - 13s 26ms/step - loss: 1.9300 - accuracy: 0.6555\n",
      "Epoch 61/100\n",
      "484/484 [==============================] - 13s 26ms/step - loss: 1.8953 - accuracy: 0.6623\n",
      "Epoch 62/100\n",
      "484/484 [==============================] - 13s 26ms/step - loss: 1.8728 - accuracy: 0.6682\n",
      "Epoch 63/100\n",
      "484/484 [==============================] - 13s 26ms/step - loss: 1.8298 - accuracy: 0.6763\n",
      "Epoch 64/100\n",
      "484/484 [==============================] - 13s 26ms/step - loss: 1.8062 - accuracy: 0.6807\n",
      "Epoch 65/100\n",
      "484/484 [==============================] - 13s 26ms/step - loss: 1.7681 - accuracy: 0.6910\n",
      "Epoch 66/100\n",
      "484/484 [==============================] - 13s 26ms/step - loss: 1.7423 - accuracy: 0.6951\n",
      "Epoch 67/100\n",
      "484/484 [==============================] - 13s 26ms/step - loss: 1.7307 - accuracy: 0.6941\n",
      "Epoch 68/100\n",
      "484/484 [==============================] - 13s 26ms/step - loss: 1.6984 - accuracy: 0.7016\n",
      "Epoch 69/100\n",
      "484/484 [==============================] - 13s 26ms/step - loss: 1.6731 - accuracy: 0.7065\n",
      "Epoch 70/100\n",
      "484/484 [==============================] - 13s 26ms/step - loss: 1.6412 - accuracy: 0.7181\n",
      "Epoch 71/100\n",
      "484/484 [==============================] - 13s 26ms/step - loss: 1.6138 - accuracy: 0.7223\n",
      "Epoch 72/100\n",
      "484/484 [==============================] - 13s 26ms/step - loss: 1.6050 - accuracy: 0.7184\n",
      "Epoch 73/100\n",
      "484/484 [==============================] - 13s 27ms/step - loss: 1.5694 - accuracy: 0.7289\n",
      "Epoch 74/100\n",
      "484/484 [==============================] - 13s 26ms/step - loss: 1.5359 - accuracy: 0.7344\n",
      "Epoch 75/100\n",
      "484/484 [==============================] - 13s 26ms/step - loss: 1.5236 - accuracy: 0.7375\n",
      "Epoch 76/100\n",
      "484/484 [==============================] - 13s 26ms/step - loss: 1.5101 - accuracy: 0.7361\n",
      "Epoch 77/100\n",
      "484/484 [==============================] - 13s 26ms/step - loss: 1.4963 - accuracy: 0.7418\n",
      "Epoch 78/100\n",
      "484/484 [==============================] - 13s 26ms/step - loss: 1.4732 - accuracy: 0.7479\n",
      "Epoch 79/100\n",
      "484/484 [==============================] - 13s 26ms/step - loss: 1.4474 - accuracy: 0.7508\n",
      "Epoch 80/100\n",
      "484/484 [==============================] - 13s 26ms/step - loss: 1.4396 - accuracy: 0.7498\n",
      "Epoch 81/100\n",
      "484/484 [==============================] - 13s 26ms/step - loss: 1.4196 - accuracy: 0.7555\n",
      "Epoch 82/100\n",
      "484/484 [==============================] - 13s 26ms/step - loss: 1.3951 - accuracy: 0.7597\n",
      "Epoch 83/100\n",
      "484/484 [==============================] - 13s 26ms/step - loss: 1.3879 - accuracy: 0.7596\n",
      "Epoch 84/100\n",
      "484/484 [==============================] - 13s 26ms/step - loss: 1.3724 - accuracy: 0.7639\n",
      "Epoch 85/100\n",
      "484/484 [==============================] - 12s 26ms/step - loss: 1.3479 - accuracy: 0.7670\n",
      "Epoch 86/100\n",
      "484/484 [==============================] - 13s 26ms/step - loss: 1.3421 - accuracy: 0.7698\n",
      "Epoch 87/100\n",
      "484/484 [==============================] - 13s 26ms/step - loss: 1.3272 - accuracy: 0.7720\n",
      "Epoch 88/100\n",
      "484/484 [==============================] - 13s 26ms/step - loss: 1.3214 - accuracy: 0.7722\n",
      "Epoch 89/100\n",
      "484/484 [==============================] - 13s 26ms/step - loss: 1.3095 - accuracy: 0.7737\n",
      "Epoch 90/100\n",
      "484/484 [==============================] - 13s 26ms/step - loss: 1.2762 - accuracy: 0.7817\n",
      "Epoch 91/100\n",
      "484/484 [==============================] - 13s 26ms/step - loss: 1.2640 - accuracy: 0.7813\n",
      "Epoch 92/100\n",
      "484/484 [==============================] - 13s 26ms/step - loss: 1.2503 - accuracy: 0.7824\n",
      "Epoch 93/100\n",
      "484/484 [==============================] - 12s 26ms/step - loss: 1.2420 - accuracy: 0.7864\n",
      "Epoch 94/100\n",
      "484/484 [==============================] - 13s 26ms/step - loss: 1.2331 - accuracy: 0.7851\n",
      "Epoch 95/100\n",
      "484/484 [==============================] - 13s 26ms/step - loss: 1.2259 - accuracy: 0.7857\n",
      "Epoch 96/100\n",
      "484/484 [==============================] - 13s 26ms/step - loss: 1.2010 - accuracy: 0.7939\n",
      "Epoch 97/100\n",
      "484/484 [==============================] - 13s 26ms/step - loss: 1.1881 - accuracy: 0.7962\n",
      "Epoch 98/100\n",
      "484/484 [==============================] - 13s 26ms/step - loss: 1.1986 - accuracy: 0.7920\n",
      "Epoch 99/100\n",
      "484/484 [==============================] - 13s 26ms/step - loss: 1.1863 - accuracy: 0.7958\n",
      "Epoch 100/100\n",
      "484/484 [==============================] - 13s 26ms/step - loss: 1.1795 - accuracy: 0.7939\n"
     ]
    }
   ],
   "source": [
    " history = model.fit(predictors, label, epochs=100)"
   ]
  },
  {
   "cell_type": "code",
   "execution_count": 10,
   "metadata": {
    "colab": {
     "base_uri": "https://localhost:8080/",
     "height": 545
    },
    "id": "F1c_l2qiS-GW",
    "outputId": "87d53c8c-4b12-4249-82dd-596e690c1f21"
   },
   "outputs": [
    {
     "data": {
      "image/png": "[encoded data removed]",
      "text/plain": [
       "<Figure size 432x288 with 1 Axes>"
      ]
     },
     "metadata": {
      "needs_background": "light"
     },
     "output_type": "display_data"
    },
    {
     "data": {
      "image/png": "[encoded data removed]",
      "text/plain": [
       "<Figure size 432x288 with 1 Axes>"
      ]
     },
     "metadata": {
      "needs_background": "light"
     },
     "output_type": "display_data"
    }
   ],
   "source": [
    "import matplotlib.pyplot as plt\n",
    "acc = history.history['accuracy']\n",
    "loss = history.history['loss']\n",
    "\n",
    "epochs = range(len(acc))\n",
    "\n",
    "plt.plot(epochs, acc, 'b', label='Training accuracy')\n",
    "plt.title('Training accuracy')\n",
    "\n",
    "plt.figure()\n",
    "\n",
    "plt.plot(epochs, loss, 'b', label='Training Loss')\n",
    "plt.title('Training loss')\n",
    "plt.legend()\n",
    "\n",
    "plt.show()"
   ]
  },
  {
   "cell_type": "code",
   "execution_count": 14,
   "metadata": {
    "colab": {
     "base_uri": "https://localhost:8080/"
    },
    "id": "sh8gMKGuS-01",
    "outputId": "acd6b0d8-b51b-4895-a620-8d959add599f"
   },
   "outputs": [
    {
     "name": "stdout",
     "output_type": "stream",
     "text": [
      "I love thee, why would you leave me? could prove you prove me prove true heaven young hours was show it young in love that none yourself did approve her treasure bearing hate pain ' live young in great friend am for mine ' again so skill hate new spent seen hate cold face face tongue pity cheeks friend might lie to fear in love all this ' so bright write thee so heart it well best will dwell is loss was ranged wit untrue bright thine delight than memory dwell is great friend esteem'd seen respect date best still life her rhyme skill age bad rare young\n"
     ]
    }
   ],
   "source": [
    "seed_text = \"I love thee, why would you leave me?\"\n",
    "next_words = 100\n",
    "  \n",
    "for _ in range(next_words):\n",
    "\ttoken_list = tokenizer.texts_to_sequences([seed_text])[0]\n",
    "\ttoken_list = pad_sequences([token_list], maxlen=max_sequence_len-1, padding='pre')\n",
    "\tpredicted =  np.argmax(model.predict(token_list, verbose=0))\n",
    "\toutput_word = \"\"\n",
    "\tfor word, index in tokenizer.word_index.items():\n",
    "\t\tif index == predicted:\n",
    "\t\t\toutput_word = word\n",
    "\t\t\tbreak\n",
    "\tseed_text += \" \" + output_word\n",
    "print(seed_text)\n"
   ]
  },
  {
   "cell_type": "code",
   "execution_count": null,
   "metadata": {
    "id": "WyFXoYgKyq3o"
   },
   "outputs": [],
   "source": []
  }
 ],
 "metadata": {
  "accelerator": "GPU",
  "colab": {
   "name": "TextGeneration Project .ipynb",
   "provenance": []
  },
  "kernelspec": {
   "display_name": "Python 3 (ipykernel)",
   "language": "python",
   "name": "python3"
  },
  "language_info": {
   "codemirror_mode": {
    "name": "ipython",
    "version": 3
   },
   "file_extension": ".py",
   "mimetype": "text/x-python",
   "name": "python",
   "nbconvert_exporter": "python",
   "pygments_lexer": "ipython3",
   "version": "3.8.8"
  }
 },
 "nbformat": 4,
 "nbformat_minor": 1
}
